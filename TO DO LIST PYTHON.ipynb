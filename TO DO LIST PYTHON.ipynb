{
 "cells": [
  {
   "cell_type": "code",
   "execution_count": null,
   "metadata": {},
   "outputs": [],
   "source": [
    "import tkinter\n",
    "import tkinter.messagebox\n",
    "import pickle\n",
    "\n",
    "window = tkinter.Tk()\n",
    "window.title(\"To do list\")\n",
    "\n",
    "def task_adding():\n",
    "    todo = task_add.get()\n",
    "    if todo != \"\":\n",
    "        todo_box.insert(tkinter.END, todo)\n",
    "        task_add.delete(0, tkinter.END)\n",
    "    else:\n",
    "        tkinter.messagebox.showwarning(title=\"Attention!!\", message=\"To add a task, please enter some text\")\n",
    "\n",
    "def task_removing():\n",
    "    try:\n",
    "        index_todo = todo_box.curselection()[0]\n",
    "        todo_box.delete(index_todo)\n",
    "    except IndexError:\n",
    "        tkinter.messagebox.showwarning(title=\"Attention!!\", message=\"To delete a task, you must select a task\")\n",
    "\n",
    "def task_load():\n",
    "    try:\n",
    "        tasks = pickle.load(open(\"tasks.dat\", \"rb\"))\n",
    "        todo_box.delete(0, tkinter.END)\n",
    "        for todo in tasks:\n",
    "            todo_box.insert(tkinter.END, todo)\n",
    "    except FileNotFoundError:\n",
    "        tkinter.messagebox.showwarning(title=\"Attention!!\", message=\"Cannot find tasks.dat\")\n",
    "\n",
    "def task_save():\n",
    "    todo_list = todo_box.get(0, tkinter.END)\n",
    "    pickle.dump(todo_list, open(\"tasks.dat\", \"wb\"))\n",
    "\n",
    "list_frame = tkinter.Frame(window)\n",
    "list_frame.pack()\n",
    "\n",
    "todo_box = tkinter.Listbox(list_frame, height=20, width=50)\n",
    "todo_box.pack(side=tkinter.LEFT)\n",
    "\n",
    "scroller = tkinter.Scrollbar(list_frame)\n",
    "scroller.pack(side=tkinter.RIGHT, fill=tkinter.Y)\n",
    "\n",
    "todo_box.config(yscrollcommand=scroller.set)\n",
    "scroller.config(command=todo_box.yview)\n",
    "\n",
    "task_add = tkinter.Entry(window, width=70)\n",
    "task_add.pack()\n",
    "\n",
    "add_task_button = tkinter.Button(window, text=\"CLICK TO ADD TASK\", font=(\"arial\", 20, \"bold\"), background=\"red\", width=40, command=task_adding)\n",
    "add_task_button.pack()\n",
    "\n",
    "remove_task_button = tkinter.Button(window, text=\"CLICK TO DELETE TASK\", font=(\"arial\", 20, \"bold\"), background=\"yellow\", width=40, command=task_removing)\n",
    "remove_task_button.pack()\n",
    "\n",
    "load_task_button = tkinter.Button(window, text=\"CLICK TO LOAD TASK\", font=(\"arial\", 20, \"bold\"), background=\"green\", width=40, command=task_load)\n",
    "load_task_button.pack()\n",
    "\n",
    "save_task_button = tkinter.Button(window, text=\"CLICK TO SAVE TASK\", font=(\"arial\", 20, \"bold\"), background=\"pink\", width=40, command=task_save)\n",
    "save_task_button.pack()\n",
    "\n",
    "window.mainloop()\n"
   ]
  },
  {
   "cell_type": "code",
   "execution_count": 1,
   "metadata": {},
   "outputs": [],
   "source": [
    "\n"
   ]
  },
  {
   "cell_type": "code",
   "execution_count": null,
   "metadata": {},
   "outputs": [],
   "source": []
  }
 ],
 "metadata": {
  "kernelspec": {
   "display_name": "Python 3",
   "language": "python",
   "name": "python3"
  },
  "language_info": {
   "codemirror_mode": {
    "name": "ipython",
    "version": 3
   },
   "file_extension": ".py",
   "mimetype": "text/x-python",
   "name": "python",
   "nbconvert_exporter": "python",
   "pygments_lexer": "ipython3",
   "version": "3.8.10"
  }
 },
 "nbformat": 4,
 "nbformat_minor": 4
}
